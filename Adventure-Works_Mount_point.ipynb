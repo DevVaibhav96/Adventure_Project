{
 "cells": [
  {
   "cell_type": "code",
   "execution_count": 0,
   "metadata": {
    "application/vnd.databricks.v1+cell": {
     "cellMetadata": {
      "byteLimit": 2048000,
      "rowLimit": 10000
     },
     "inputWidgets": {},
     "nuid": "6486598a-7308-4477-9d97-3e33d65d72e7",
     "showTitle": false,
     "tableResultSettingsMap": {},
     "title": ""
    }
   },
   "outputs": [],
   "source": [
    "# Unmount the existing mount point\n",
    "dbutils.fs.unmount(\"/mnt/bronze-layer\")"
   ]
  },
  {
   "cell_type": "code",
   "execution_count": 0,
   "metadata": {
    "application/vnd.databricks.v1+cell": {
     "cellMetadata": {
      "byteLimit": 2048000,
      "rowLimit": 10000
     },
     "inputWidgets": {},
     "nuid": "71cb1543-b124-4684-b13b-a0621dd5f93c",
     "showTitle": false,
     "tableResultSettingsMap": {},
     "title": ""
    }
   },
   "outputs": [],
   "source": [
    "configs = {\n",
    "    \"fs.azure.account.auth.type\": \"SAS\",\n",
    "    \"fs.azure.sas.token.provider.type\": \"org.apache.hadoop.fs.azurebfs.sas.FixedSASTokenProvider\",\n",
    "    \"fs.azure.sas.fixed.token\": \"sp=racwdlmeop&st=2025-07-11T08:28:52Z&se=2025-07-16T16:28:52Z&sv=2024-11-04&sr=c&sig=xWUAFjJ6eXbXLb5DsoY8pBae85c5jKX4gCIklM1lK%2Fk%3D\"\n",
    "}\n",
    "\n",
    "# Mount the ADLS container to Databricks file system (DBFS)\n",
    "dbutils.fs.mount(\n",
    "    source=\"abfss://bronze-layer@stawdatalakestorage.dfs.core.windows.net/\",\n",
    "    mount_point=\"/mnt/bronze-layer\",\n",
    "    extra_configs=configs\n",
    ")"
   ]
  },
  {
   "cell_type": "code",
   "execution_count": 0,
   "metadata": {
    "application/vnd.databricks.v1+cell": {
     "cellMetadata": {
      "byteLimit": 2048000,
      "rowLimit": 10000
     },
     "inputWidgets": {},
     "nuid": "1db21755-1a26-4d52-bd97-ebe5a99d3819",
     "showTitle": false,
     "tableResultSettingsMap": {},
     "title": ""
    }
   },
   "outputs": [],
   "source": [
    "%fs ls dbfs:/mnt"
   ]
  },
  {
   "cell_type": "code",
   "execution_count": 0,
   "metadata": {
    "application/vnd.databricks.v1+cell": {
     "cellMetadata": {
      "byteLimit": 2048000,
      "rowLimit": 10000
     },
     "inputWidgets": {},
     "nuid": "d00d40ea-008a-4919-a655-676eb7bb8bae",
     "showTitle": false,
     "tableResultSettingsMap": {},
     "title": ""
    }
   },
   "outputs": [],
   "source": [
    "# Unmount the existing mount point\n",
    "#dbutils.fs.unmount(\"/mnt/silver-layer\")\n",
    "# silver_layer_mount_\n",
    "\n",
    "configs = {\n",
    "    \"fs.azure.account.auth.type\": \"SAS\",\n",
    "    \"fs.azure.sas.token.provider.type\": \"org.apache.hadoop.fs.azurebfs.sas.FixedSASTokenProvider\",\n",
    "    \"fs.azure.sas.fixed.token\": \"sp=racwdlmeop&st=2025-07-11T08:35:06Z&se=2025-07-16T16:35:06Z&sv=2024-11-04&sr=c&sig=ihN%2FFLCKLcx8EKDVcwI1e9sPWrUSdHnVuJDtSb992bI%3D\"\n",
    "}\n",
    "\n",
    "# Mount the ADLS container to Databricks file system (DBFS)\n",
    "dbutils.fs.mount(\n",
    "    source=\"abfss://silver-layer@stawdatalakestorage.dfs.core.windows.net/\",\n",
    "    mount_point=\"/mnt/silver-layer\",\n",
    "    extra_configs=configs\n",
    ")"
   ]
  },
  {
   "cell_type": "code",
   "execution_count": 0,
   "metadata": {
    "application/vnd.databricks.v1+cell": {
     "cellMetadata": {
      "byteLimit": 2048000,
      "rowLimit": 10000
     },
     "inputWidgets": {},
     "nuid": "46d61a0e-b5cd-4f27-aaf5-7b677b0f636e",
     "showTitle": false,
     "tableResultSettingsMap": {},
     "title": ""
    }
   },
   "outputs": [],
   "source": [
    "# Unmount the existing mount point\n",
    "dbutils.fs.unmount(\"/mnt/gold-layer\")\n",
    "# Gold_layer_mount_\n",
    "\n",
    "configs = {\n",
    "    \"fs.azure.account.auth.type\": \"SAS\",\n",
    "    \"fs.azure.sas.token.provider.type\": \"org.apache.hadoop.fs.azurebfs.sas.FixedSASTokenProvider\",\n",
    "    \"fs.azure.sas.fixed.token\": \"sp=racwdlmeop&st=2025-07-11T08:42:03Z&se=2025-07-16T16:42:03Z&sv=2024-11-04&sr=c&sig=BSBii2wZum2B8ADRLexuk0ZNy10RiYLi7gbyRcPUafc%3D\"\n",
    "}\n",
    "\n",
    "# Mount the ADLS container to Databricks file system (DBFS)\n",
    "dbutils.fs.mount(\n",
    "    source=\"abfss://gold-layer@stawdatalakestorage.dfs.core.windows.net/\",\n",
    "    mount_point=\"/mnt/gold-layer\",\n",
    "    extra_configs=configs\n",
    ")"
   ]
  }
 ],
 "metadata": {
  "application/vnd.databricks.v1+notebook": {
   "computePreferences": null,
   "dashboards": [],
   "environmentMetadata": {
    "base_environment": "",
    "environment_version": "2"
   },
   "inputWidgetPreferences": null,
   "language": "python",
   "notebookMetadata": {
    "mostRecentlyExecutedCommandWithImplicitDF": {
     "commandId": 7694817742926802,
     "dataframes": [
      "_sqldf"
     ]
    },
    "pythonIndentUnit": 4
   },
   "notebookName": "Adventure-Works_Mount_point",
   "widgets": {}
  },
  "language_info": {
   "name": "python"
  }
 },
 "nbformat": 4,
 "nbformat_minor": 0
}
